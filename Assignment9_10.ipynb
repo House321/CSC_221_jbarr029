{
  "nbformat": 4,
  "nbformat_minor": 0,
  "metadata": {
    "colab": {
      "provenance": [],
      "authorship_tag": "ABX9TyOb7+aAkp9TRRvlYHPVm/1o",
      "include_colab_link": true
    },
    "kernelspec": {
      "name": "python3",
      "display_name": "Python 3"
    },
    "language_info": {
      "name": "python"
    }
  },
  "cells": [
    {
      "cell_type": "markdown",
      "metadata": {
        "id": "view-in-github",
        "colab_type": "text"
      },
      "source": [
        "<a href=\"https://colab.research.google.com/github/House321/CSC_221_jbarr029/blob/main/Assignment9_10.ipynb\" target=\"_parent\"><img src=\"https://colab.research.google.com/assets/colab-badge.svg\" alt=\"Open In Colab\"/></a>"
      ]
    },
    {
      "cell_type": "markdown",
      "source": [
        "# FUNCTION 1\n",
        "\n",
        "- calculates average"
      ],
      "metadata": {
        "id": "WQ5rzEMw8Gx9"
      }
    },
    {
      "cell_type": "code",
      "source": [
        "# Function\n",
        "\n",
        "def calc_average(nums):\n",
        "  '''Calculates the average of a list of numbers. Code has a list of numbers. Code returns the average.'''\n",
        "  if not nums:\n",
        "    print(\"Warning: Input list is empty\")\n",
        "    return None\n",
        "\n",
        "  total = sum(nums)\n",
        "  average = total / len(nums)\n",
        "  return average"
      ],
      "metadata": {
        "id": "uNoYe4Me8QXF"
      },
      "execution_count": 2,
      "outputs": []
    },
    {
      "cell_type": "code",
      "source": [
        "#TEST\n",
        "\n",
        "nums = [1, 2, 3, 4, 5, 6, 7, 8, 9]\n",
        "result = calc_average(nums)\n",
        "\n",
        "print(\"Average:\", result)\n",
        "\n",
        "assert calc_average([1, 2, 3, 4, 5]) == 3.0, \"Average calculation is incorrect\""
      ],
      "metadata": {
        "colab": {
          "base_uri": "https://localhost:8080/"
        },
        "id": "dUi3e7-T_Wky",
        "outputId": "37259578-9cf3-4db1-87f2-5d0d939cdb04"
      },
      "execution_count": 6,
      "outputs": [
        {
          "output_type": "stream",
          "name": "stdout",
          "text": [
            "Average: 5.0\n"
          ]
        }
      ]
    },
    {
      "cell_type": "markdown",
      "source": [
        "# FUNCTION 2\n",
        "- finds the max number in a list"
      ],
      "metadata": {
        "id": "V3oVddZOAOLj"
      }
    },
    {
      "cell_type": "code",
      "source": [
        "# Function\n",
        "\n",
        "def find_max(nums):\n",
        "    \"\"\"Finds the maximum value in a list of numbers. Code has number list. Code returns maximum number.\"\"\"\n",
        "    assert isinstance(nums, list), \"Input must be a list\"\n",
        "    assert all(isinstance(num, (int, float)) for num in nums), \"All elements in the list must be integers or floats\"\n",
        "    assert len(nums) > 0, \"List must not be empty\"\n",
        "\n",
        "    max_num = nums[0]\n",
        "    for num in nums:\n",
        "        if num > max_num:\n",
        "            max_num = num\n",
        "    return max_num"
      ],
      "metadata": {
        "id": "aqMpgB9ZAXxK"
      },
      "execution_count": 16,
      "outputs": []
    },
    {
      "cell_type": "code",
      "source": [
        "#TEST\n",
        "\n",
        "test_list1 = [1, 2, 3, 4, 5]\n",
        "assert find_max(test_list1) == 5\n",
        "\n",
        "test_list2 = [9, 1, 8, 3, 6]\n",
        "assert find_max(test_list2) == 9\n",
        "\n",
        "test_list3 = [-10, -5, -3, -7]\n",
        "assert find_max(test_list3) == -3\n",
        "\n",
        "print(\"All tests passed.\")"
      ],
      "metadata": {
        "colab": {
          "base_uri": "https://localhost:8080/"
        },
        "id": "Hf0nnPyYBV15",
        "outputId": "d5ec68a4-4689-49fc-fc99-10111a683370"
      },
      "execution_count": 17,
      "outputs": [
        {
          "output_type": "stream",
          "name": "stdout",
          "text": [
            "All tests passed.\n"
          ]
        }
      ]
    },
    {
      "cell_type": "markdown",
      "source": [
        "# FUNCTION 3\n",
        "- word count"
      ],
      "metadata": {
        "id": "24FcjZSlDzHj"
      }
    },
    {
      "cell_type": "code",
      "source": [
        "# FUNCTION\n",
        "\n",
        "def word_count(text):\n",
        "    \"\"\"Counts the number of words in a given text. Code has input text and Code returns the word count in text.\"\"\"\n",
        "    words = text.split()\n",
        "    return len(words)"
      ],
      "metadata": {
        "id": "lmS5Ow6ZERUI"
      },
      "execution_count": 31,
      "outputs": []
    },
    {
      "cell_type": "code",
      "source": [
        "#TEST\n",
        "\n",
        "text = \"Does anyone have the answers for the Prostate Exam?\"\n",
        "print(\"Test case:\", text)\n",
        "assert word_count(text) == 9\n",
        "\n",
        "text2 = \"Sharks do not know that camels exist\"\n",
        "print(\"Test case:\", text2)\n",
        "assert word_count(text2) == 7"
      ],
      "metadata": {
        "colab": {
          "base_uri": "https://localhost:8080/"
        },
        "id": "YjHe2_QSHd34",
        "outputId": "5b0e4b64-2bbb-495e-f96b-fbe128586007"
      },
      "execution_count": 35,
      "outputs": [
        {
          "output_type": "stream",
          "name": "stdout",
          "text": [
            "Test case: Does anyone have the answers for the Prostate Exam?\n",
            "Test case: Sharks do not know that camels exist\n"
          ]
        }
      ]
    },
    {
      "cell_type": "markdown",
      "source": [
        "# FUNCTION 4\n",
        "- calculates the sum of variable arguments"
      ],
      "metadata": {
        "id": "KGtVAOChITta"
      }
    },
    {
      "cell_type": "code",
      "source": [
        "#FUNCTION\n",
        "\n",
        "def sum_variable_args(*args):\n",
        "    \"\"\"Calculates the sum of variable arguments. Arguments include variable number of integers or floats. Returns The sum of the arguments.\"\"\"\n",
        "    result = sum(args)\n",
        "    print(\"Sum of arguments:\", result)\n",
        "    return result"
      ],
      "metadata": {
        "id": "-xTaijaUIuzN"
      },
      "execution_count": 37,
      "outputs": []
    },
    {
      "cell_type": "code",
      "source": [
        "# TEST\n",
        "\n",
        "print(\"Test case: 1, 2, 3\")\n",
        "assert sum_variable_args(1, 2, 3) == 6\n",
        "\n",
        "print(\"Test case: 10, 20, 30, 40\")\n",
        "assert sum_variable_args(10, 20, 30, 40) == 100"
      ],
      "metadata": {
        "colab": {
          "base_uri": "https://localhost:8080/"
        },
        "id": "Pd2OkhzEKCLQ",
        "outputId": "e6d0929d-529a-4434-88a1-4d6990d16a95"
      },
      "execution_count": 39,
      "outputs": [
        {
          "output_type": "stream",
          "name": "stdout",
          "text": [
            "Test case: 1, 2, 3\n",
            "Sum of arguments: 6\n",
            "Test case: 10, 20, 30, 40\n",
            "Sum of arguments: 100\n"
          ]
        }
      ]
    },
    {
      "cell_type": "markdown",
      "source": [
        "# FUNCTION 5\n",
        "- calculates area and perimeter of a rectangle with length and width"
      ],
      "metadata": {
        "id": "7YFV_XiuKHIe"
      }
    },
    {
      "cell_type": "code",
      "source": [
        "# function\n",
        "\n",
        "def rectangle_info(length, width):\n",
        "    \"\"\"Calculates the area and perimeter of a rectangle. Code has length and width. Code returns area and perimeter\"\"\"\n",
        "    area = length * width\n",
        "    perimeter = 2 * (length + width)\n",
        "    print(\"Area of rectangle:\", area)\n",
        "    print(\"Perimeter of rectangle:\", perimeter)\n",
        "    return area, perimeter"
      ],
      "metadata": {
        "id": "Er-3V8V5KW-a"
      },
      "execution_count": 42,
      "outputs": []
    },
    {
      "cell_type": "code",
      "source": [
        "# TEST\n",
        "print(\"Test case: length=5, width=4\")\n",
        "assert rectangle_info(5, 4) == (20, 18)\n",
        "\n",
        "print(\"Test case: length=10, width=6\")\n",
        "assert rectangle_info(10, 6) == (60, 32)"
      ],
      "metadata": {
        "colab": {
          "base_uri": "https://localhost:8080/"
        },
        "id": "vYswZ7ZjKzhQ",
        "outputId": "f8d784c8-9d98-4793-ba52-66b1e4b1f31e"
      },
      "execution_count": 43,
      "outputs": [
        {
          "output_type": "stream",
          "name": "stdout",
          "text": [
            "Test case: length=5, width=4\n",
            "Area of rectangle: 20\n",
            "Perimeter of rectangle: 18\n",
            "Test case: length=10, width=6\n",
            "Area of rectangle: 60\n",
            "Perimeter of rectangle: 32\n"
          ]
        }
      ]
    },
    {
      "cell_type": "markdown",
      "source": [
        "#Function 6\n",
        "\n",
        "- list sorting"
      ],
      "metadata": {
        "id": "CyDf3pS6K6lw"
      }
    },
    {
      "cell_type": "code",
      "source": [
        "# FUNCTION\n",
        "\n",
        "def sort_numbers(numbers):\n",
        "    \"\"\" Sort a list of numbers. Code has number list and returns list in a sorted manner.\"\"\"\n",
        "    sorted_numbers = sorted(numbers)\n",
        "    print(\"Sorted numbers:\", sorted_numbers)\n",
        "    return sorted_numbers"
      ],
      "metadata": {
        "id": "7YyeFk4bLikP"
      },
      "execution_count": 44,
      "outputs": []
    },
    {
      "cell_type": "code",
      "source": [
        "# TEST\n",
        "\n",
        "print(\"Test case: [5, 2, 8, 1]\")\n",
        "assert sort_numbers([5, 2, 8, 1]) == [1, 2, 5, 8]\n",
        "\n",
        "print(\"Test case: [10, 4, 7, 3]\")\n",
        "assert sort_numbers([10, 4, 7, 3]) == [3, 4, 7, 10]"
      ],
      "metadata": {
        "colab": {
          "base_uri": "https://localhost:8080/"
        },
        "id": "TsGFtoocLw5z",
        "outputId": "94bcf8f3-7628-4db8-ec3f-40a173e9b215"
      },
      "execution_count": 45,
      "outputs": [
        {
          "output_type": "stream",
          "name": "stdout",
          "text": [
            "Test case: [5, 2, 8, 1]\n",
            "Sorted numbers: [1, 2, 5, 8]\n",
            "Test case: [10, 4, 7, 3]\n",
            "Sorted numbers: [3, 4, 7, 10]\n"
          ]
        }
      ]
    },
    {
      "cell_type": "markdown",
      "source": [
        "# Function 7\n",
        "\n",
        "- checks if a key exists in a dictionary"
      ],
      "metadata": {
        "id": "EBcf9jkUL9td"
      }
    },
    {
      "cell_type": "code",
      "source": [
        "# FUNCTION\n",
        "\n",
        "def check_key(dictionary, key):\n",
        "    \"\"\" Check if a key exists in a dictionary. Code has dictionary and key checker. Returns if key exists or not\"\"\"\n",
        "    key_exists = key in dictionary\n",
        "    print(\"Key exists:\", key_exists)\n",
        "    return key_exists"
      ],
      "metadata": {
        "id": "29HIUQqKMDJQ"
      },
      "execution_count": 46,
      "outputs": []
    },
    {
      "cell_type": "code",
      "source": [
        "#TEST\n",
        "\n",
        "print(\"Test case: {'a': 1, 'b': 2, 'c': 3}, key='b'\")\n",
        "assert check_key({'a': 1, 'b': 2, 'c': 3}, 'b') == True\n",
        "\n",
        "print(\"Test case: {'x': 10, 'y': 20, 'z': 30}, key='w'\")\n",
        "assert check_key({'x': 10, 'y': 20, 'z': 30}, 'w') == False\n"
      ],
      "metadata": {
        "colab": {
          "base_uri": "https://localhost:8080/"
        },
        "id": "A-hsUPdbMIlo",
        "outputId": "08c6574d-7ada-4307-9d50-e9e904a4ae14"
      },
      "execution_count": 47,
      "outputs": [
        {
          "output_type": "stream",
          "name": "stdout",
          "text": [
            "Test case: {'a': 1, 'b': 2, 'c': 3}, key='b'\n",
            "Key exists: True\n",
            "Test case: {'x': 10, 'y': 20, 'z': 30}, key='w'\n",
            "Key exists: False\n"
          ]
        }
      ]
    },
    {
      "cell_type": "markdown",
      "source": [
        "# FUNCTION 8\n",
        "\n",
        "- computes the factorial of a given number"
      ],
      "metadata": {
        "id": "jZfGxrPKMamb"
      }
    },
    {
      "cell_type": "code",
      "source": [
        "# FUNCTION\n",
        "\n",
        "def factorial(n):\n",
        "    \"\"\"Calculates the factorial of given number. Code returns factorial.\"\"\"\n",
        "    if n == 0:\n",
        "        return 1\n",
        "    else:\n",
        "        result = 1\n",
        "        for i in range(1, n + 1):\n",
        "            result *= i\n",
        "        print(\"Factorial:\", result)\n",
        "        return result"
      ],
      "metadata": {
        "id": "erh019k5Mk4O"
      },
      "execution_count": 48,
      "outputs": []
    },
    {
      "cell_type": "code",
      "source": [
        "# TEST\n",
        "print(\"Test case: n=5\")\n",
        "assert factorial(5) == 120\n",
        "\n",
        "print(\"Test case: n=0\")\n",
        "assert factorial(0) == 1\n"
      ],
      "metadata": {
        "colab": {
          "base_uri": "https://localhost:8080/"
        },
        "id": "kfSHCpYUMtDS",
        "outputId": "62e7661c-3306-4a85-f22e-8dc070c7eddc"
      },
      "execution_count": 49,
      "outputs": [
        {
          "output_type": "stream",
          "name": "stdout",
          "text": [
            "Test case: n=5\n",
            "Factorial: 120\n",
            "Test case: n=0\n"
          ]
        }
      ]
    },
    {
      "cell_type": "markdown",
      "source": [
        "# FUNCTION 9\n",
        "- temperature conversion"
      ],
      "metadata": {
        "id": "pEXT_Z3hM44S"
      }
    },
    {
      "cell_type": "code",
      "source": [
        "# FUNCTION\n",
        "\n",
        "def convert_temperature(temp, scale):\n",
        "    \"\"\" Code converts temp from celsius to fahrenheit or whatev. Code has temp value and scale, returns converted temp.\"\"\"\n",
        "    if scale.lower() == 'celsius':\n",
        "        converted_temp = (temp * 9/5) + 32\n",
        "        print(\"Temperature in Fahrenheit:\", converted_temp)\n",
        "        return converted_temp\n",
        "    elif scale.lower() == 'fahrenheit':\n",
        "        converted_temp = (temp - 32) * 5/9\n",
        "        print(\"Temperature in Celsius:\", converted_temp)\n",
        "        return converted_temp"
      ],
      "metadata": {
        "id": "VRmoHOI3M-Oj"
      },
      "execution_count": 50,
      "outputs": []
    },
    {
      "cell_type": "code",
      "source": [
        "# TEST\n",
        "\n",
        "print(\"Test case: temp = 100, scale = Celsius\")\n",
        "assert convert_temperature(100, 'Celsius') == 212\n",
        "\n",
        "print(\"Test case: temp = 32, scale = Fahrenheit\")\n",
        "assert convert_temperature(32, 'Fahrenheit') == 0"
      ],
      "metadata": {
        "colab": {
          "base_uri": "https://localhost:8080/"
        },
        "id": "7ppuBiRkNYIE",
        "outputId": "892de9c5-9dec-42d8-eb71-787fbfe36edf"
      },
      "execution_count": 53,
      "outputs": [
        {
          "output_type": "stream",
          "name": "stdout",
          "text": [
            "Test case: temp = 100, scale = Celsius\n",
            "Temperature in Fahrenheit: 212.0\n",
            "Test case: temp = 32, scale = Fahrenheit\n",
            "Temperature in Celsius: 0.0\n"
          ]
        }
      ]
    },
    {
      "cell_type": "markdown",
      "source": [
        "#FUNCTION 10\n",
        "- fibonacci sequence"
      ],
      "metadata": {
        "id": "8GHQV8bCN4tW"
      }
    },
    {
      "cell_type": "code",
      "source": [
        "# Function\n",
        "\n",
        "def fibonacci_sequence(n):\n",
        "    \"\"\"code generate the Fibonacci sequence up given numbers. Code has number list and returns in it in said sequence.\"\"\"\n",
        "    sequence = [0, 1]\n",
        "    for i in range(2, n):\n",
        "        next_term = sequence[-1] + sequence[-2]\n",
        "        sequence.append(next_term)\n",
        "    print(\"Fibonacci sequence:\", sequence)\n",
        "    return sequence"
      ],
      "metadata": {
        "id": "DwEzbS3XOFYc"
      },
      "execution_count": 54,
      "outputs": []
    },
    {
      "cell_type": "code",
      "source": [
        "# Test\n",
        "\n",
        "print(\"Test case: n=7\")\n",
        "assert fibonacci_sequence(7) == [0, 1, 1, 2, 3, 5, 8]\n",
        "\n",
        "print(\"Test case: n=10\")\n",
        "assert fibonacci_sequence(10) == [0, 1, 1, 2, 3, 5, 8, 13, 21, 34]"
      ],
      "metadata": {
        "colab": {
          "base_uri": "https://localhost:8080/"
        },
        "id": "dAKmDJBtOV4p",
        "outputId": "51f35382-c2ab-4e3b-9c69-1590b2814d19"
      },
      "execution_count": 55,
      "outputs": [
        {
          "output_type": "stream",
          "name": "stdout",
          "text": [
            "Test case: n=7\n",
            "Fibonacci sequence: [0, 1, 1, 2, 3, 5, 8]\n",
            "Test case: n=10\n",
            "Fibonacci sequence: [0, 1, 1, 2, 3, 5, 8, 13, 21, 34]\n"
          ]
        }
      ]
    }
  ]
}