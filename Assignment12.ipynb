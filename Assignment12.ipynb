{
  "nbformat": 4,
  "nbformat_minor": 0,
  "metadata": {
    "colab": {
      "provenance": [],
      "authorship_tag": "ABX9TyPNY/JwwZd50VqdB8prTffy",
      "include_colab_link": true
    },
    "kernelspec": {
      "name": "python3",
      "display_name": "Python 3"
    },
    "language_info": {
      "name": "python"
    }
  },
  "cells": [
    {
      "cell_type": "markdown",
      "metadata": {
        "id": "view-in-github",
        "colab_type": "text"
      },
      "source": [
        "<a href=\"https://colab.research.google.com/github/House321/CSC_221_jbarr029/blob/main/Assignment12.ipynb\" target=\"_parent\"><img src=\"https://colab.research.google.com/assets/colab-badge.svg\" alt=\"Open In Colab\"/></a>"
      ]
    },
    {
      "cell_type": "code",
      "execution_count": 4,
      "metadata": {
        "colab": {
          "base_uri": "https://localhost:8080/"
        },
        "id": "4ozkTzt4bMqG",
        "outputId": "ed918d00-85c3-4a8b-ed02-4790e13ac576"
      },
      "outputs": [
        {
          "output_type": "stream",
          "name": "stdout",
          "text": [
            "$1.00 $5.00 $10.00 $0.25 $0.25 $0.10 $0.01 \n",
            "Total: 16.610000000000003\n"
          ]
        }
      ],
      "source": [
        "# Wallet\n",
        "\n",
        "class Money:\n",
        "    def __init__(self, value):\n",
        "        self.value = value\n",
        "\n",
        "class Bills(Money):\n",
        "    pass\n",
        "\n",
        "class Coins(Money):\n",
        "    pass\n",
        "\n",
        "class One(Bills):\n",
        "    def __init__(self):\n",
        "        super().__init__(1)\n",
        "\n",
        "class Five(Bills):\n",
        "    def __init__(self):\n",
        "        super().__init__(5)\n",
        "\n",
        "class Ten(Bills):\n",
        "    def __init__(self):\n",
        "        super().__init__(10)\n",
        "\n",
        "class Twenty(Bills):\n",
        "    def __init__(self):\n",
        "        super().__init__(20)\n",
        "\n",
        "class Penny(Coins):\n",
        "    def __init__(self):\n",
        "        super().__init__(0.01)\n",
        "\n",
        "class Nickel(Coins):\n",
        "    def __init__(self):\n",
        "        super().__init__(0.05)\n",
        "\n",
        "class Dime(Coins):\n",
        "    def __init__(self):\n",
        "        super().__init__(0.10)\n",
        "\n",
        "class Quarter(Coins):\n",
        "    def __init__(self):\n",
        "        super().__init__(0.25)\n",
        "\n",
        "def total_money(money_list):\n",
        "    total = 0\n",
        "    for money in money_list:\n",
        "        total += money.value\n",
        "    return total\n",
        "\n",
        "def print_money(money_list):\n",
        "    for money in money_list:\n",
        "        print(f\"${money.value:.2f}\", end=\" \")\n",
        "    print()\n",
        "\n",
        "wallet = [One(), Five(), Ten(), Quarter(), Quarter(), Dime(), Penny()]\n",
        "print_money(wallet)\n",
        "print(\"Total:\", total_money(wallet))"
      ]
    },
    {
      "cell_type": "code",
      "source": [
        "#Inheritence\n",
        "\n",
        "class Animal:\n",
        "    def __init__(self, species):\n",
        "        self.species = species\n",
        "\n",
        "    def sound(self):\n",
        "        pass\n",
        "\n",
        "class Dog(Animal):\n",
        "    def sound(self):\n",
        "        return \"Woof\"\n",
        "\n",
        "class Cat(Animal):\n",
        "    def sound(self):\n",
        "        return \"Meow\"\n",
        "\n",
        "class Cow(Animal):\n",
        "    def sound(self):\n",
        "        return \"Moo\"\n",
        "\n",
        "def make_sound(animals):\n",
        "    for animal in animals:\n",
        "        print(animal.sound())\n",
        "\n",
        "animals = [Dog(\"Canine\"), Cat(\"Feline\"), Cow(\"Bovine\")]\n",
        "make_sound(animals)"
      ],
      "metadata": {
        "colab": {
          "base_uri": "https://localhost:8080/"
        },
        "id": "Bo0id_imcsfK",
        "outputId": "919d9c3e-798c-4a95-f968-af27590382fe"
      },
      "execution_count": 3,
      "outputs": [
        {
          "output_type": "stream",
          "name": "stdout",
          "text": [
            "Woof\n",
            "Meow\n",
            "Moo\n"
          ]
        }
      ]
    }
  ]
}