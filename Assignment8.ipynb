{
  "nbformat": 4,
  "nbformat_minor": 0,
  "metadata": {
    "colab": {
      "provenance": [],
      "authorship_tag": "ABX9TyOKN4V8sem3BtIcUNGmE8aK",
      "include_colab_link": true
    },
    "kernelspec": {
      "name": "python3",
      "display_name": "Python 3"
    },
    "language_info": {
      "name": "python"
    }
  },
  "cells": [
    {
      "cell_type": "markdown",
      "metadata": {
        "id": "view-in-github",
        "colab_type": "text"
      },
      "source": [
        "<a href=\"https://colab.research.google.com/github/House321/CSC_221_jbarr029/blob/main/Assignment8.ipynb\" target=\"_parent\"><img src=\"https://colab.research.google.com/assets/colab-badge.svg\" alt=\"Open In Colab\"/></a>"
      ]
    },
    {
      "cell_type": "code",
      "execution_count": 3,
      "metadata": {
        "colab": {
          "base_uri": "https://localhost:8080/"
        },
        "id": "50bGk58j0OCO",
        "outputId": "7e621fea-9c4f-45a9-d40c-7bb528c79bdc"
      },
      "outputs": [
        {
          "output_type": "stream",
          "name": "stdout",
          "text": [
            "My favorite book is Diary of a Wimpy Kid: Dog Days\n"
          ]
        }
      ],
      "source": [
        "# TIY 8-2\n",
        "\n",
        "def favorite_book(title):\n",
        "  print(f\"My favorite book is {title}\")\n",
        "\n",
        "favorite_book(\"Diary of a Wimpy Kid: Dog Days\")"
      ]
    },
    {
      "cell_type": "code",
      "source": [
        "# TIY 8-3\n",
        "\n",
        "def make_shirt(size, text):\n",
        "  print(f\"Shirt Size: {size}, Text: {text}\")\n",
        "\n",
        "make_shirt(\"Large\", \"My Favorite Color is 7\")\n",
        "\n",
        "make_shirt(size=\"Medium\", text=\"Sharks Don't Know Camels Exist\")"
      ],
      "metadata": {
        "colab": {
          "base_uri": "https://localhost:8080/"
        },
        "id": "JCt7uNaC08eD",
        "outputId": "78c11afe-7d3d-4418-b859-bc44b51c905c"
      },
      "execution_count": 11,
      "outputs": [
        {
          "output_type": "stream",
          "name": "stdout",
          "text": [
            "Shirt Size: Large, Text: My Favorite Color is 7\n",
            "Shirt Size: Medium, Text: Sharks Don't Know Camels Exist\n"
          ]
        }
      ]
    },
    {
      "cell_type": "code",
      "source": [
        "# TIY 8-4\n",
        "\n",
        "def make_shirt(size=\"large\", text=\"I love Python\"):\n",
        "  print(f\"Shirt Size: {size}, Text: {text}\")\n",
        "\n",
        "make_shirt()\n",
        "\n",
        "make_shirt(size=\"Medium\")\n",
        "\n",
        "make_shirt(size=\"Small\", text=\"I DON'T CARE WHO THE IRS SENDS I AM NOT PAYING TAXES\")"
      ],
      "metadata": {
        "colab": {
          "base_uri": "https://localhost:8080/"
        },
        "id": "oNt3xmWI2jMo",
        "outputId": "4c215f2c-8a63-4e2f-bc83-7ead1f6da8ff"
      },
      "execution_count": 12,
      "outputs": [
        {
          "output_type": "stream",
          "name": "stdout",
          "text": [
            "Shirt Size: large, Text: I love Python\n",
            "Shirt Size: Medium, Text: I love Python\n",
            "Shirt Size: Small, Text: I DON'T CARE WHO THE IRS SENDS I AM NOT PAYING TAXES\n"
          ]
        }
      ]
    },
    {
      "cell_type": "code",
      "source": [
        "# FUNC8 FUNCTION CODE\n",
        "\n",
        "###### FLOWCHART (idk how to make a flowchart on colab lol)\n",
        " # I guess I'll make c = 42 if 42 isn't provided.\n",
        " # I'll calculate the sums and products of A, B, and C\n",
        " # I'll make a list containing A, B, and C. List will also be sorted.\n",
        " # I'll make a few test cases with positive and negative numbers and even decimals for the test cases\n",
        "\n",
        "def func8(a, b, c = 42):\n",
        "  if c == 42:\n",
        "    c = 42\n",
        "  else:\n",
        "    c = c\n",
        "\n",
        "  sums = a + b + c\n",
        "  products = a * b * c\n",
        "  num_list = sorted([a, b, c])\n",
        "  return sums, products, num_list\n",
        "\n",
        "\n",
        "\n",
        "# TEST CASE 1\n",
        "print(func8(3, 5))\n",
        "\n",
        "# TEST CASE 2\n",
        "print(func8(2, 4, 6))\n",
        "\n",
        "# TEST CASE 3\n",
        "print(func8(2, 4))\n",
        "\n",
        "# TEST CASE 4\n",
        "print(func8(2, 4, 42))\n",
        "\n",
        "# TEST CASE 5\n",
        "print(func8(-2, -3, -1))\n",
        "\n",
        "# TEST CASE 6\n",
        "print(func8(2.5, 1.5, 3.5))"
      ],
      "metadata": {
        "colab": {
          "base_uri": "https://localhost:8080/"
        },
        "id": "q4YNsOr23Zz7",
        "outputId": "1c7798d8-c461-42a6-d9c9-5c4fa41959a3"
      },
      "execution_count": 19,
      "outputs": [
        {
          "output_type": "stream",
          "name": "stdout",
          "text": [
            "(50, 630, [3, 5, 42])\n",
            "(12, 48, [2, 4, 6])\n",
            "(48, 336, [2, 4, 42])\n",
            "(48, 336, [2, 4, 42])\n",
            "(-6, -6, [-3, -2, -1])\n",
            "(7.5, 13.125, [1.5, 2.5, 3.5])\n"
          ]
        }
      ]
    }
  ]
}