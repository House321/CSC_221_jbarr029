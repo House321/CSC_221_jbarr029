{
  "nbformat": 4,
  "nbformat_minor": 0,
  "metadata": {
    "colab": {
      "provenance": [],
      "authorship_tag": "ABX9TyOdSXYEqit050LRoTQPzv38",
      "include_colab_link": true
    },
    "kernelspec": {
      "name": "python3",
      "display_name": "Python 3"
    },
    "language_info": {
      "name": "python"
    }
  },
  "cells": [
    {
      "cell_type": "markdown",
      "metadata": {
        "id": "view-in-github",
        "colab_type": "text"
      },
      "source": [
        "<a href=\"https://colab.research.google.com/github/House321/CSC_221_jbarr029/blob/main/Assignment6.ipynb\" target=\"_parent\"><img src=\"https://colab.research.google.com/assets/colab-badge.svg\" alt=\"Open In Colab\"/></a>"
      ]
    },
    {
      "cell_type": "code",
      "execution_count": null,
      "metadata": {
        "colab": {
          "base_uri": "https://localhost:8080/"
        },
        "id": "ZNZ_M4w9H_JI",
        "outputId": "d2f33bd2-dac8-4f2e-d2d4-02b8024a29fc"
      },
      "outputs": [
        {
          "output_type": "stream",
          "name": "stdout",
          "text": [
            "Is car == 'Jeep'? I guess it is true.\n",
            "False\n",
            "\n",
            "Is car == 'Nissan'? I guess it is false.\n",
            "False\n",
            "\n",
            "Is car != 'Toyota'? I guess it is true.\n",
            "True\n",
            "\n",
            "Is car.upper() == 'HONDA'? I guess it is true.\n",
            "True\n",
            "\n",
            "Is len(car) > 5? I guess it is false.\n",
            "False\n",
            "\n",
            "Is 'Hyundai' in car? I guess it is true.\n",
            "False\n",
            "\n",
            "Is 'Ford' not in car? I guess it is true.\n",
            "True\n",
            "\n",
            "Is car.startswith('H')? I guess it is true.\n",
            "True\n",
            "\n",
            "Is car.endswith('a')? I guess it is false.\n",
            "True\n",
            "\n",
            "Is car.isnumeric()? I guess it is false.\n",
            "False\n"
          ]
        }
      ],
      "source": [
        "# TIY 5.1\n",
        "\n",
        "car = \"Honda\"\n",
        "\n",
        "print(\"Is car == 'Jeep'? I guess it is true.\")\n",
        "print(car == 'Jeep')\n",
        "\n",
        "print(\"\\nIs car == 'Nissan'? I guess it is false.\")\n",
        "print(car == 'Nissan')\n",
        "\n",
        "print(\"\\nIs car != 'Toyota'? I guess it is true.\")\n",
        "print(car != 'Toyota')\n",
        "\n",
        "print(\"\\nIs car.upper() == 'HONDA'? I guess it is true.\")\n",
        "print(car.upper() == 'HONDA')\n",
        "\n",
        "print(\"\\nIs len(car) > 5? I guess it is false.\")\n",
        "print(len(car) > 5)\n",
        "\n",
        "print(\"\\nIs 'Hyundai' in car? I guess it is true.\")\n",
        "print('Hyundai' in car)\n",
        "\n",
        "print(\"\\nIs 'Ford' not in car? I guess it is true.\")\n",
        "print('Ford' not in car)\n",
        "\n",
        "print(\"\\nIs car.startswith('H')? I guess it is true.\")\n",
        "print(car.startswith('H'))\n",
        "\n",
        "print(\"\\nIs car.endswith('a')? I guess it is false.\")\n",
        "print(car.endswith('a'))\n",
        "\n",
        "print(\"\\nIs car.isnumeric()? I guess it is false.\")\n",
        "print(car.isnumeric())"
      ]
    },
    {
      "cell_type": "code",
      "source": [
        "# TIY 5.2\n",
        "\n",
        "fruit = 'apple'\n",
        "print(\"Is fruit == 'apple'? I predict True.\")\n",
        "print(fruit == 'apple')\n",
        "\n",
        "print(\"\\nIs fruit != 'banana'? I predict True.\")\n",
        "print(fruit != 'banana')\n",
        "\n",
        "name = 'John'\n",
        "print(\"\\nIs name.lower() == 'john'? I predict True.\")\n",
        "print(name.lower() == 'john')\n",
        "\n",
        "age = 25\n",
        "print(\"\\nIs age == 25? I predict True.\")\n",
        "print(age == 25)\n",
        "\n",
        "print(\"\\nIs age != 30? I predict True.\")\n",
        "print(age != 30)\n",
        "\n",
        "print(\"\\nIs age > 18? I predict True.\")\n",
        "print(age > 18)\n",
        "\n",
        "print(\"\\nIs age < 30? I predict True.\")\n",
        "print(age < 30)\n",
        "\n",
        "print(\"\\nIs age >= 20? I predict True.\")\n",
        "print(age >= 20)\n",
        "\n",
        "print(\"\\nIs age <= 25? I predict True.\")\n",
        "print(age <= 25)\n",
        "\n",
        "is_sunny = True\n",
        "is_warm = False\n",
        "\n",
        "print(\"\\nIs it sunny and warm? I predict False.\")\n",
        "print(is_sunny and is_warm)\n",
        "\n",
        "print(\"\\nIs it sunny or warm? I predict True.\")\n",
        "print(is_sunny or is_warm)\n",
        "\n",
        "numbers = [1, 2, 3, 4, 5]\n",
        "print(\"\\nIs 3 in numbers? I predict True.\")\n",
        "print(3 in numbers)\n",
        "\n",
        "print(\"\\nIs 6 not in numbers? I predict True.\")\n",
        "print(6 not in numbers)"
      ],
      "metadata": {
        "colab": {
          "base_uri": "https://localhost:8080/"
        },
        "id": "CvVI5cmYKAAb",
        "outputId": "aca87e6e-5b68-4a0e-a6b8-1195bbda97c3"
      },
      "execution_count": null,
      "outputs": [
        {
          "output_type": "stream",
          "name": "stdout",
          "text": [
            "Is fruit == 'apple'? I predict True.\n",
            "True\n",
            "\n",
            "Is fruit != 'banana'? I predict True.\n",
            "True\n",
            "\n",
            "Is name.lower() == 'john'? I predict True.\n",
            "True\n",
            "\n",
            "Is age == 25? I predict True.\n",
            "True\n",
            "\n",
            "Is age != 30? I predict True.\n",
            "True\n",
            "\n",
            "Is age > 18? I predict True.\n",
            "True\n",
            "\n",
            "Is age < 30? I predict True.\n",
            "True\n",
            "\n",
            "Is age >= 20? I predict True.\n",
            "True\n",
            "\n",
            "Is age <= 25? I predict True.\n",
            "True\n",
            "\n",
            "Is it sunny and warm? I predict False.\n",
            "False\n",
            "\n",
            "Is it sunny or warm? I predict True.\n",
            "True\n",
            "\n",
            "Is 3 in numbers? I predict True.\n",
            "True\n",
            "\n",
            "Is 6 not in numbers? I predict True.\n",
            "True\n"
          ]
        }
      ]
    },
    {
      "cell_type": "code",
      "source": [
        "# TIY 5.3 PASSING\n",
        "\n",
        "alien_color = 'green'\n",
        "\n",
        "if alien_color == 'green':\n",
        "    print(\"Congratulations! You just earned 5 points.\")\n"
      ],
      "metadata": {
        "colab": {
          "base_uri": "https://localhost:8080/"
        },
        "id": "Qwb6uTGHPhP3",
        "outputId": "d85691c4-1252-469a-951c-5966cf26a95a"
      },
      "execution_count": null,
      "outputs": [
        {
          "output_type": "stream",
          "name": "stdout",
          "text": [
            "Congratulations! You just earned 5 points.\n"
          ]
        }
      ]
    },
    {
      "cell_type": "code",
      "source": [
        "# TIY 5.3 FAIL\n",
        "\n",
        "alien_color = 'red'\n",
        "\n",
        "if alien_color == 'green':\n",
        "    print(\"Congratulations! You just earned 5 points.\")"
      ],
      "metadata": {
        "id": "wTnbxwEmQEgE"
      },
      "execution_count": null,
      "outputs": []
    },
    {
      "cell_type": "code",
      "source": [
        "#TIY 5.6\n",
        "\n",
        "age = 30\n",
        "\n",
        "if age < 2:\n",
        "    print(\"BABY\")\n",
        "elif age < 4:\n",
        "    print(\"TODDLER\")\n",
        "elif age < 13:\n",
        "    print(\"KID\")\n",
        "elif age < 20:\n",
        "    print(\"TEENAGER\")\n",
        "elif age < 65:\n",
        "    print(\"ADULT\")\n",
        "else:\n",
        "    print(\"ELDER\")"
      ],
      "metadata": {
        "colab": {
          "base_uri": "https://localhost:8080/"
        },
        "id": "XxLGLkpGQvV0",
        "outputId": "47960010-0b9f-42e3-f3ac-fef3e77280b7"
      },
      "execution_count": null,
      "outputs": [
        {
          "output_type": "stream",
          "name": "stdout",
          "text": [
            "ADULT\n"
          ]
        }
      ]
    },
    {
      "cell_type": "code",
      "source": [
        "## TIY 5.13 IDEASSSS\n",
        "\n",
        "## My idea is a guessing number game. The code gives you hints if you have taken too many guess. This is like the only good idea I could come up with lol.\n",
        "\n",
        "import random\n",
        "\n",
        "def guess_number():\n",
        "    number_to_guess = random.randint(1, 100)\n",
        "    while True:\n",
        "        guess = int(input(\"Guess the number (between 1 and 100): \"))\n",
        "        if guess < number_to_guess:\n",
        "            print(\"Too low! Try again.\")\n",
        "        elif guess > number_to_guess:\n",
        "            print(\"Too high! Try again.\")\n",
        "        elif guess == number_to_guess:\n",
        "            print(\"Congratulations! You guessed the number!\")\n",
        "            break\n",
        "        elif guess % 2 == 0:\n",
        "            print(\"Hint: It's an even number!\")\n",
        "        elif guess % 2 != 0:\n",
        "            print(\"Hint: It's an odd number!\")\n",
        "\n",
        "guess_number()"
      ],
      "metadata": {
        "id": "4s5QxCQYRxCi",
        "colab": {
          "base_uri": "https://localhost:8080/"
        },
        "outputId": "bdfcc3d1-3ec8-4b22-f537-e9e0a18f9a55"
      },
      "execution_count": 1,
      "outputs": [
        {
          "output_type": "stream",
          "name": "stdout",
          "text": [
            "Guess the number (between 1 and 100): 76\n",
            "Too high! Try again.\n",
            "Guess the number (between 1 and 100): 43\n",
            "Too low! Try again.\n",
            "Guess the number (between 1 and 100): 50\n",
            "Too low! Try again.\n",
            "Guess the number (between 1 and 100): 55\n",
            "Too low! Try again.\n",
            "Guess the number (between 1 and 100): 60\n",
            "Too low! Try again.\n",
            "Guess the number (between 1 and 100): 65\n",
            "Too low! Try again.\n",
            "Guess the number (between 1 and 100): 70\n",
            "Too low! Try again.\n",
            "Guess the number (between 1 and 100): 75\n",
            "Too high! Try again.\n",
            "Guess the number (between 1 and 100): 73\n",
            "Too low! Try again.\n",
            "Guess the number (between 1 and 100): 74\n",
            "Congratulations! You guessed the number!\n"
          ]
        }
      ]
    }
  ]
}