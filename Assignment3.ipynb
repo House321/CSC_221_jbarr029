{
  "nbformat": 4,
  "nbformat_minor": 0,
  "metadata": {
    "colab": {
      "provenance": [],
      "authorship_tag": "ABX9TyNc97QtsBhtgqz//dIYzraB",
      "include_colab_link": true
    },
    "kernelspec": {
      "name": "python3",
      "display_name": "Python 3"
    },
    "language_info": {
      "name": "python"
    }
  },
  "cells": [
    {
      "cell_type": "markdown",
      "metadata": {
        "id": "view-in-github",
        "colab_type": "text"
      },
      "source": [
        "<a href=\"https://colab.research.google.com/github/House321/CSC_221_jbarr029/blob/main/Assignment3.ipynb\" target=\"_parent\"><img src=\"https://colab.research.google.com/assets/colab-badge.svg\" alt=\"Open In Colab\"/></a>"
      ]
    },
    {
      "cell_type": "code",
      "execution_count": 1,
      "metadata": {
        "colab": {
          "base_uri": "https://localhost:8080/"
        },
        "id": "ej2gkZ6oZXO2",
        "outputId": "5b6edb06-feba-4869-b5f8-216530af2d06"
      },
      "outputs": [
        {
          "output_type": "stream",
          "name": "stdout",
          "text": [
            "Hello people\n",
            "Bye people\n"
          ]
        }
      ],
      "source": [
        "# TIY 2.1 - 2.2\n",
        "\n",
        "## 2.1\n",
        "message = \"Hello people\"\n",
        "print(message)\n",
        "\n",
        "## 2.2\n",
        "new_message = \"Bye people\"\n",
        "print(new_message)"
      ]
    },
    {
      "cell_type": "code",
      "source": [
        "#TIY 2.3 - 2.8\n",
        "\n",
        "## 2.3\n",
        "person_name = \"BillyBobJoe\"\n",
        "print(f\"Hello {person_name}, would you like to learn some Python today?\")\n",
        "\n",
        "## 2.4\n",
        "person_name = \"lionel messi\"\n",
        "\n",
        "print(\"Lowercase:\", person_name.lower())\n",
        "print(\"Uppercase:\", person_name.upper())\n",
        "print(\"Title case:\", person_name.title())\n",
        "\n",
        "## 2.5\n",
        "quote = \"I've never seen a homeless guy with a bottle of Gatorade.\"\n",
        "author = \"George Carlin\"\n",
        "\n",
        "print(f\"{author} once said, \\\"{quote}\\\"\")\n",
        "\n",
        "## 2.6\n",
        "famous_person = \"Dave Chappelle\"\n",
        "quote2 = \"You know you must be doing something right if old people like you.\"\n",
        "message = f\"{famous_person} once said, \\\"{quote2}\\\"\"\n",
        "print(message)\n",
        "\n",
        "## 2.7\n",
        "person_name = \"\\t\\n Lionel Messi \\n\\t\"\n",
        "\n",
        "print(\"Original:\", person_name)\n",
        "print(\"Stripped left:\", person_name.lstrip())\n",
        "print(\"Stripped right:\", person_name.rstrip())\n",
        "print(\"Stripped both sides:\", person_name.strip())\n",
        "\n",
        "## 2.8\n",
        "filename = 'python_notes.txt'\n",
        "filename_without_extension = filename.removesuffix('.txt')\n",
        "print(filename_without_extension)"
      ],
      "metadata": {
        "colab": {
          "base_uri": "https://localhost:8080/"
        },
        "id": "-O9jzWyGaLWq",
        "outputId": "6e12723b-c59c-45f3-c20d-f4c824a925dd"
      },
      "execution_count": 11,
      "outputs": [
        {
          "output_type": "stream",
          "name": "stdout",
          "text": [
            "Hello BillyBobJoe, would you like to learn some Python today?\n",
            "Lowercase: lionel messi\n",
            "Uppercase: LIONEL MESSI\n",
            "Title case: Lionel Messi\n",
            "George Carlin once said, \"I've never seen a homeless guy with a bottle of Gatorade.\"\n",
            "Dave Chappelle once said, \"You know you must be doing something right if old people like you.\"\n",
            "Original: \t\n",
            " Lionel Messi \n",
            "\t\n",
            "Stripped left: Lionel Messi \n",
            "\t\n",
            "Stripped right: \t\n",
            " Lionel Messi\n",
            "Stripped both sides: Lionel Messi\n",
            "python_notes\n"
          ]
        }
      ]
    },
    {
      "cell_type": "code",
      "source": [
        "#TIY 2.9 - 2.10\n",
        "\n",
        "## 2.9\n",
        "print(9 + 10)\n",
        "print(8 - 4)\n",
        "print(10 * 10)\n",
        "print(21 / 3)\n",
        "\n",
        "## 2.10\n",
        "favorite_number = 21\n",
        "print(\"My favorite number is:\", favorite_number)"
      ],
      "metadata": {
        "colab": {
          "base_uri": "https://localhost:8080/"
        },
        "id": "t_XFo7P9dXVa",
        "outputId": "2bc53072-e8b4-438d-a2ad-d5ce6cbd2f79"
      },
      "execution_count": 10,
      "outputs": [
        {
          "output_type": "stream",
          "name": "stdout",
          "text": [
            "19\n",
            "4\n",
            "100\n",
            "7.0\n",
            "My favorite number is: 21\n"
          ]
        }
      ]
    },
    {
      "cell_type": "code",
      "source": [
        "# TIY 2.11\n",
        "\n",
        "## author = Josue Barrientos\n",
        "## date = 2/12/24\n",
        "## exercise (TIY 2.3) = personal message\n",
        "\n",
        "## program below greets a person by name and asks if they are willing to learn what python is\n",
        "## use a variable to represent the person's name\n",
        "## message could be simple, however way you wanna make it to be\n",
        "\n",
        "person_name = \"BillyBobJoe\"\n",
        "print(f\"Hello {person_name}, would you like to learn some Python today?\")\n",
        "\n",
        "################################################################################################################\n",
        "\n",
        "## author = Josue barrientos\n",
        "## date = 2/12/24\n",
        "## exercise (TIY 2.5) = famous quote\n",
        "## program below prints a famous quote some famous person said\n",
        "## go on google and look up some famous celebrity or whatever and see some quotes they've said. Print the quote and the name of the celebrity who said it\n",
        "\n",
        "quote = \"I've never seen a homeless guy with a bottle of Gatorade.\"\n",
        "author = \"George Carlin\"\n",
        "\n",
        "print(f\"{author} once said, \\\"{quote}\\\"\")"
      ],
      "metadata": {
        "colab": {
          "base_uri": "https://localhost:8080/"
        },
        "id": "N1gFwipicJEH",
        "outputId": "bebcec20-d7c2-48dd-c0b1-2a65fa453df3"
      },
      "execution_count": 12,
      "outputs": [
        {
          "output_type": "stream",
          "name": "stdout",
          "text": [
            "Hello BillyBobJoe, would you like to learn some Python today?\n",
            "George Carlin once said, \"I've never seen a homeless guy with a bottle of Gatorade.\"\n"
          ]
        }
      ]
    },
    {
      "cell_type": "code",
      "source": [
        "# TIY 2.12\n",
        "\n",
        "import this"
      ],
      "metadata": {
        "colab": {
          "base_uri": "https://localhost:8080/"
        },
        "id": "4wRy1BeIfRrQ",
        "outputId": "15d96997-836f-472a-9894-314e3891fc55"
      },
      "execution_count": 13,
      "outputs": [
        {
          "output_type": "stream",
          "name": "stdout",
          "text": [
            "The Zen of Python, by Tim Peters\n",
            "\n",
            "Beautiful is better than ugly.\n",
            "Explicit is better than implicit.\n",
            "Simple is better than complex.\n",
            "Complex is better than complicated.\n",
            "Flat is better than nested.\n",
            "Sparse is better than dense.\n",
            "Readability counts.\n",
            "Special cases aren't special enough to break the rules.\n",
            "Although practicality beats purity.\n",
            "Errors should never pass silently.\n",
            "Unless explicitly silenced.\n",
            "In the face of ambiguity, refuse the temptation to guess.\n",
            "There should be one-- and preferably only one --obvious way to do it.\n",
            "Although that way may not be obvious at first unless you're Dutch.\n",
            "Now is better than never.\n",
            "Although never is often better than *right* now.\n",
            "If the implementation is hard to explain, it's a bad idea.\n",
            "If the implementation is easy to explain, it may be a good idea.\n",
            "Namespaces are one honking great idea -- let's do more of those!\n"
          ]
        }
      ]
    }
  ]
}