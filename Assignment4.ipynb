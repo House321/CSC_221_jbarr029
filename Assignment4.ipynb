{
  "nbformat": 4,
  "nbformat_minor": 0,
  "metadata": {
    "colab": {
      "provenance": [],
      "authorship_tag": "ABX9TyO/JDFUVetGmoB6pQYdW8n3",
      "include_colab_link": true
    },
    "kernelspec": {
      "name": "python3",
      "display_name": "Python 3"
    },
    "language_info": {
      "name": "python"
    }
  },
  "cells": [
    {
      "cell_type": "markdown",
      "metadata": {
        "id": "view-in-github",
        "colab_type": "text"
      },
      "source": [
        "<a href=\"https://colab.research.google.com/github/House321/CSC_221_jbarr029/blob/main/Assignment4.ipynb\" target=\"_parent\"><img src=\"https://colab.research.google.com/assets/colab-badge.svg\" alt=\"Open In Colab\"/></a>"
      ]
    },
    {
      "cell_type": "code",
      "execution_count": 1,
      "metadata": {
        "colab": {
          "base_uri": "https://localhost:8080/"
        },
        "id": "El_iwQEeoMYy",
        "outputId": "5ef369a7-98be-48fb-c2c8-0a2798c6fa9a"
      },
      "outputs": [
        {
          "output_type": "stream",
          "name": "stdout",
          "text": [
            "Billy\n",
            "Bob\n",
            "Joe\n",
            "Frank\n"
          ]
        }
      ],
      "source": [
        "# TIY 3.1\n",
        "names = [\"Billy\", \"Bob\", \"Joe\", \"Frank\"]\n",
        "\n",
        "for name in names:\n",
        "    print(name)"
      ]
    },
    {
      "cell_type": "code",
      "source": [
        "#TIY 3.2\n",
        "for name in names:\n",
        "    print(f\"Hello, {name}!\")"
      ],
      "metadata": {
        "colab": {
          "base_uri": "https://localhost:8080/"
        },
        "id": "Iir5X42koSC6",
        "outputId": "7ff49d12-a07a-48c5-beb3-57295ef7bddc"
      },
      "execution_count": 2,
      "outputs": [
        {
          "output_type": "stream",
          "name": "stdout",
          "text": [
            "Hello, Billy!\n",
            "Hello, Bob!\n",
            "Hello, Joe!\n",
            "Hello, Frank!\n"
          ]
        }
      ]
    },
    {
      "cell_type": "code",
      "source": [
        "# TIY 3.3\n",
        "transportation = [\"motorcycle\", \"car\", \"bicycle\", \"train\"]\n",
        "\n",
        "for item in transportation:\n",
        "    print(f\"I would like to own a {item.capitalize()}.\")"
      ],
      "metadata": {
        "colab": {
          "base_uri": "https://localhost:8080/"
        },
        "id": "0Zrc5ikzoUfh",
        "outputId": "f79e893c-658b-456a-f9dc-0ad0ffc5b46b"
      },
      "execution_count": 3,
      "outputs": [
        {
          "output_type": "stream",
          "name": "stdout",
          "text": [
            "I would like to own a Motorcycle.\n",
            "I would like to own a Car.\n",
            "I would like to own a Bicycle.\n",
            "I would like to own a Train.\n"
          ]
        }
      ]
    },
    {
      "cell_type": "code",
      "source": [
        "# TIY 3.4\n",
        "\n",
        "guests = [\"Saul Goodman\", \"Jesse Pinkman\", \"Walter White\"]\n",
        "\n",
        "for guest in guests:\n",
        "    print(f\"Dear {guest}, I would like to invite you to dinner.\")"
      ],
      "metadata": {
        "colab": {
          "base_uri": "https://localhost:8080/"
        },
        "id": "bYtiLS6YoYYZ",
        "outputId": "986b923f-c121-4e6a-f944-0cfa484cb5b9"
      },
      "execution_count": 4,
      "outputs": [
        {
          "output_type": "stream",
          "name": "stdout",
          "text": [
            "Dear Saul Goodman, I would like to invite you to dinner.\n",
            "Dear Jesse Pinkman, I would like to invite you to dinner.\n",
            "Dear Walter White, I would like to invite you to dinner.\n"
          ]
        }
      ]
    },
    {
      "cell_type": "code",
      "source": [
        "# TIY 3.5\n",
        "\n",
        "guests = [\"Saul Goodman\", \"Jesse Pinkman\", \"Walter White\"]\n",
        "not_guest = guests.pop(1)\n",
        "new_guest = \"Gustavo Fring\"\n",
        "guests.append(new_guest)\n",
        "\n",
        "for guest in guests:\n",
        "    print(f\"Dear {guest}, I would like to invite you to dinner.\")\n",
        "print(f\"\\nUnfortunately, {not_guest} can't make it.\")"
      ],
      "metadata": {
        "colab": {
          "base_uri": "https://localhost:8080/"
        },
        "id": "QtU7kvSToaoQ",
        "outputId": "a04be5aa-46b5-4276-f913-3fce9caf61ba"
      },
      "execution_count": 5,
      "outputs": [
        {
          "output_type": "stream",
          "name": "stdout",
          "text": [
            "Dear Saul Goodman, I would like to invite you to dinner.\n",
            "Dear Walter White, I would like to invite you to dinner.\n",
            "Dear Gustavo Fring, I would like to invite you to dinner.\n",
            "\n",
            "Unfortunately, Jesse Pinkman can't make it.\n"
          ]
        }
      ]
    },
    {
      "cell_type": "code",
      "source": [
        "# TIY 3.6\n",
        "\n",
        "print(\"\\nGreat news! We found a bigger dinner table.\")\n",
        "guests.insert(0, \"Joe Rogan\")\n",
        "guests.insert(2, \"Keanu Reeves\")\n",
        "guests.append(\"Scobby Doo\")\n",
        "\n",
        "for guest in guests:\n",
        "    print(f\"Dear {guest}, I would like to invite you to dinner.\")"
      ],
      "metadata": {
        "colab": {
          "base_uri": "https://localhost:8080/"
        },
        "id": "E6xuiCkaohAI",
        "outputId": "faa77b9f-7159-4b38-a2be-235b0ad47c8f"
      },
      "execution_count": 6,
      "outputs": [
        {
          "output_type": "stream",
          "name": "stdout",
          "text": [
            "\n",
            "Great news! We found a bigger dinner table.\n",
            "Dear Joe Rogan, I would like to invite you to dinner.\n",
            "Dear Saul Goodman, I would like to invite you to dinner.\n",
            "Dear Keanu Reeves, I would like to invite you to dinner.\n",
            "Dear Walter White, I would like to invite you to dinner.\n",
            "Dear Gustavo Fring, I would like to invite you to dinner.\n",
            "Dear Scobby Doo, I would like to invite you to dinner.\n"
          ]
        }
      ]
    },
    {
      "cell_type": "code",
      "source": [
        "# TIY 3.7\n",
        "\n",
        "print(\"\\nUnfortunately, our new dinner table won't arrive in time for the dinner. We can only invite two people.\")\n",
        "while len(guests) > 2:\n",
        "    removed_guest = guests.pop()\n",
        "    print(f\"Sorry {removed_guest}, we won't be able to invite you to dinner.\")\n",
        "\n",
        "for guest in guests:\n",
        "    print(f\"Dear {guest}, you're still invited to dinner.\")\n",
        "\n",
        "del guests[:]\n",
        "print(\"\\nOur guest list is now empty:\", guests)"
      ],
      "metadata": {
        "colab": {
          "base_uri": "https://localhost:8080/"
        },
        "id": "_IZ_uAURonl2",
        "outputId": "7da47ae7-ac80-4bed-ccb9-fd3e914b4771"
      },
      "execution_count": 7,
      "outputs": [
        {
          "output_type": "stream",
          "name": "stdout",
          "text": [
            "\n",
            "Unfortunately, our new dinner table won't arrive in time for the dinner. We can only invite two people.\n",
            "Sorry Scobby Doo, we won't be able to invite you to dinner.\n",
            "Sorry Gustavo Fring, we won't be able to invite you to dinner.\n",
            "Sorry Walter White, we won't be able to invite you to dinner.\n",
            "Sorry Keanu Reeves, we won't be able to invite you to dinner.\n",
            "Dear Joe Rogan, you're still invited to dinner.\n",
            "Dear Saul Goodman, you're still invited to dinner.\n",
            "\n",
            "Our guest list is now empty: []\n"
          ]
        }
      ]
    },
    {
      "cell_type": "code",
      "source": [
        "# TIY 3.8\n",
        "\n",
        "places_to_visit = [\"Tokyo\", \"Madrid\", \"London\", \"Dubai\", \"Buenos Aires\"]\n",
        "\n",
        "print(\"Original order:\")\n",
        "print(places_to_visit)\n",
        "\n",
        "print(\"\\nAlphabetical order:\")\n",
        "print(sorted(places_to_visit))\n",
        "\n",
        "print(\"\\nOriginal order again:\")\n",
        "print(places_to_visit)\n",
        "\n",
        "print(\"\\nReverse-alphabetical order:\")\n",
        "print(sorted(places_to_visit, reverse=True))\n",
        "\n",
        "print(\"\\nOriginal order again:\")\n",
        "print(places_to_visit)\n",
        "\n",
        "places_to_visit.reverse()\n",
        "print(\"\\nReversed order:\")\n",
        "print(places_to_visit)\n",
        "\n",
        "places_to_visit.reverse()\n",
        "print(\"\\nBack to original order:\")\n",
        "print(places_to_visit)\n",
        "\n",
        "places_to_visit.sort()\n",
        "print(\"\\nSorted in alphabetical order:\")\n",
        "print(places_to_visit)\n",
        "\n",
        "places_to_visit.sort(reverse=True)\n",
        "print(\"\\nSorted in reverse-alphabetical order:\")\n",
        "print(places_to_visit)"
      ],
      "metadata": {
        "colab": {
          "base_uri": "https://localhost:8080/"
        },
        "id": "ZrQ9mQxToray",
        "outputId": "5840de68-2bdd-42fc-942f-11d716a415b7"
      },
      "execution_count": 8,
      "outputs": [
        {
          "output_type": "stream",
          "name": "stdout",
          "text": [
            "Original order:\n",
            "['Tokyo', 'Madrid', 'London', 'Dubai', 'Buenos Aires']\n",
            "\n",
            "Alphabetical order:\n",
            "['Buenos Aires', 'Dubai', 'London', 'Madrid', 'Tokyo']\n",
            "\n",
            "Original order again:\n",
            "['Tokyo', 'Madrid', 'London', 'Dubai', 'Buenos Aires']\n",
            "\n",
            "Reverse-alphabetical order:\n",
            "['Tokyo', 'Madrid', 'London', 'Dubai', 'Buenos Aires']\n",
            "\n",
            "Original order again:\n",
            "['Tokyo', 'Madrid', 'London', 'Dubai', 'Buenos Aires']\n",
            "\n",
            "Reversed order:\n",
            "['Buenos Aires', 'Dubai', 'London', 'Madrid', 'Tokyo']\n",
            "\n",
            "Back to original order:\n",
            "['Tokyo', 'Madrid', 'London', 'Dubai', 'Buenos Aires']\n",
            "\n",
            "Sorted in alphabetical order:\n",
            "['Buenos Aires', 'Dubai', 'London', 'Madrid', 'Tokyo']\n",
            "\n",
            "Sorted in reverse-alphabetical order:\n",
            "['Tokyo', 'Madrid', 'London', 'Dubai', 'Buenos Aires']\n"
          ]
        }
      ]
    },
    {
      "cell_type": "code",
      "source": [
        "# TIY 3.9\n",
        "\n",
        "print(\"\\nNumber of people invited to dinner:\", len(places_to_visit))"
      ],
      "metadata": {
        "colab": {
          "base_uri": "https://localhost:8080/"
        },
        "id": "EDw3wL-7pLvp",
        "outputId": "b2ea4ae1-1937-4a9b-97d0-16390b7d8264"
      },
      "execution_count": 9,
      "outputs": [
        {
          "output_type": "stream",
          "name": "stdout",
          "text": [
            "\n",
            "Number of people invited to dinner: 5\n"
          ]
        }
      ]
    },
    {
      "cell_type": "code",
      "source": [
        "# TIY 3.10\n",
        "\n",
        "mountains = [\"Everest\", \"K2\", \"Kangchenjunga\", \"Lhotse\", \"Makalu\"]\n",
        "\n",
        "print(\"\\nOriginal list of mountains:\", mountains)\n",
        "print(\"Appending a new mountain...\")\n",
        "mountains.append(\"Cho Oyu\")\n",
        "print(\"After append:\", mountains)\n",
        "print(\"Inserting a mountain at index 2...\")\n",
        "mountains.insert(2, \"Dhaulagiri\")\n",
        "print(\"After insert:\", mountains)\n",
        "print(\"Removing 'K2' from the list...\")\n",
        "mountains.remove(\"K2\")\n",
        "print(\"After remove:\", mountains)\n",
        "print(\"Popping the last mountain from the list...\")\n",
        "last_mountain = mountains.pop()\n",
        "print(\"Popped mountain:\", last_mountain)\n",
        "print(\"After pop:\", mountains)\n",
        "print(\"Sorting the list alphabetically...\")\n",
        "mountains.sort()\n",
        "print(\"After sort:\", mountains)\n",
        "print(\"Reversing the list...\")\n",
        "mountains.reverse()\n",
        "print(\"After reverse:\", mountains)"
      ],
      "metadata": {
        "colab": {
          "base_uri": "https://localhost:8080/"
        },
        "id": "_U1DUE0fpSwP",
        "outputId": "3796f999-dd7c-4757-8012-51e14a3c0464"
      },
      "execution_count": 10,
      "outputs": [
        {
          "output_type": "stream",
          "name": "stdout",
          "text": [
            "\n",
            "Original list of mountains: ['Everest', 'K2', 'Kangchenjunga', 'Lhotse', 'Makalu']\n",
            "Appending a new mountain...\n",
            "After append: ['Everest', 'K2', 'Kangchenjunga', 'Lhotse', 'Makalu', 'Cho Oyu']\n",
            "Inserting a mountain at index 2...\n",
            "After insert: ['Everest', 'K2', 'Dhaulagiri', 'Kangchenjunga', 'Lhotse', 'Makalu', 'Cho Oyu']\n",
            "Removing 'K2' from the list...\n",
            "After remove: ['Everest', 'Dhaulagiri', 'Kangchenjunga', 'Lhotse', 'Makalu', 'Cho Oyu']\n",
            "Popping the last mountain from the list...\n",
            "Popped mountain: Cho Oyu\n",
            "After pop: ['Everest', 'Dhaulagiri', 'Kangchenjunga', 'Lhotse', 'Makalu']\n",
            "Sorting the list alphabetically...\n",
            "After sort: ['Dhaulagiri', 'Everest', 'Kangchenjunga', 'Lhotse', 'Makalu']\n",
            "Reversing the list...\n",
            "After reverse: ['Makalu', 'Lhotse', 'Kangchenjunga', 'Everest', 'Dhaulagiri']\n"
          ]
        }
      ]
    },
    {
      "cell_type": "code",
      "source": [
        "# TIY 3.11\n",
        "\n",
        "numbers = [1, 2, 3, 4, 5]\n",
        "\n",
        "try:\n",
        "    print(numbers[10])  # This will produce an index error because the list has only 5 elements\n",
        "except IndexError as e:\n",
        "    print(\"Index Error occurred:\", e)\n",
        "\n",
        "print(numbers[2])"
      ],
      "metadata": {
        "colab": {
          "base_uri": "https://localhost:8080/"
        },
        "id": "tVOhaJbUpf5S",
        "outputId": "14c545a2-4ee5-4016-a5c9-24d98762ae19"
      },
      "execution_count": 13,
      "outputs": [
        {
          "output_type": "stream",
          "name": "stdout",
          "text": [
            "Index Error occurred: list index out of range\n",
            "3\n"
          ]
        }
      ]
    }
  ]
}