{
  "nbformat": 4,
  "nbformat_minor": 0,
  "metadata": {
    "colab": {
      "provenance": [],
      "authorship_tag": "ABX9TyO3aM43qOsKRhZBTDBu6dq4",
      "include_colab_link": true
    },
    "kernelspec": {
      "name": "python3",
      "display_name": "Python 3"
    },
    "language_info": {
      "name": "python"
    }
  },
  "cells": [
    {
      "cell_type": "markdown",
      "metadata": {
        "id": "view-in-github",
        "colab_type": "text"
      },
      "source": [
        "<a href=\"https://colab.research.google.com/github/House321/CSC_221_jbarr029/blob/main/coolcwcwcw.ipynb\" target=\"_parent\"><img src=\"https://colab.research.google.com/assets/colab-badge.svg\" alt=\"Open In Colab\"/></a>"
      ]
    },
    {
      "cell_type": "code",
      "execution_count": 1,
      "metadata": {
        "colab": {
          "base_uri": "https://localhost:8080/"
        },
        "id": "8CHZV2826v2G",
        "outputId": "50ab0ad0-624d-4734-fb4e-ee3b1399510c"
      },
      "outputs": [
        {
          "output_type": "stream",
          "name": "stdout",
          "text": [
            "hiIT IS SO OVER.xyz\n",
            "Hey\n",
            "xyz\n",
            "Hey\n",
            "xyz\n",
            "Hey\n",
            "bubye\n"
          ]
        }
      ],
      "source": [
        "print('hi', end=\"IT IS SO OVER.\")\n",
        "for xyz in [1, 2, 31]:\n",
        "  print(\"xyz\")\n",
        "  print(\"Hey\")\n",
        "\n",
        "print('bubye')"
      ]
    },
    {
      "cell_type": "code",
      "source": [
        "for nnnnn in 'hello, world':\n",
        "  print(nnnnn)\n",
        "\n",
        "print('only once')\n",
        "\n",
        "str = 'hi...there'\n",
        "print(str[2])\n",
        "print(str[4:7])"
      ],
      "metadata": {
        "colab": {
          "base_uri": "https://localhost:8080/"
        },
        "id": "SD_RF6mu81Eg",
        "outputId": "f676a9b2-8dbf-404b-9ac8-126d68dc86a8"
      },
      "execution_count": 3,
      "outputs": [
        {
          "output_type": "stream",
          "name": "stdout",
          "text": [
            "h\n",
            "e\n",
            "l\n",
            "l\n",
            "o\n",
            ",\n",
            " \n",
            "w\n",
            "o\n",
            "r\n",
            "l\n",
            "d\n",
            "only once\n",
            ".\n",
            ".th\n"
          ]
        }
      ]
    },
    {
      "cell_type": "code",
      "source": [
        "for x in range(10, 20, 3):\n",
        "  print(x)"
      ],
      "metadata": {
        "colab": {
          "base_uri": "https://localhost:8080/"
        },
        "id": "P8xDLCVv-F6l",
        "outputId": "1a25fe25-556d-497d-8247-a7dd713ddcd7"
      },
      "execution_count": 5,
      "outputs": [
        {
          "output_type": "stream",
          "name": "stdout",
          "text": [
            "10\n",
            "13\n",
            "16\n",
            "19\n"
          ]
        }
      ]
    },
    {
      "cell_type": "code",
      "source": [
        "# MAKE A LIST\n",
        "my_list = []\n",
        "for x in range(10, 20, 3):\n",
        "  my_list.append(x)\n",
        "\n",
        "print(my_list)"
      ],
      "metadata": {
        "colab": {
          "base_uri": "https://localhost:8080/"
        },
        "id": "S9NOAOzP-a8U",
        "outputId": "9a6c976e-ef7a-44d5-b21a-893592d05330"
      },
      "execution_count": 6,
      "outputs": [
        {
          "output_type": "stream",
          "name": "stdout",
          "text": [
            "[10, 13, 16, 19]\n"
          ]
        }
      ]
    },
    {
      "cell_type": "code",
      "source": [
        "# LIST COMPREHENSION\n",
        "my_new = [x for x in range(10, 110, 10)]\n",
        "print(my_new)"
      ],
      "metadata": {
        "colab": {
          "base_uri": "https://localhost:8080/"
        },
        "id": "HALJnMdt_Nmg",
        "outputId": "42551ddc-3809-4560-9669-bbfcedefa573"
      },
      "execution_count": 9,
      "outputs": [
        {
          "output_type": "stream",
          "name": "stdout",
          "text": [
            "[10, 20, 30, 40, 50, 60, 70, 80, 90, 100]\n"
          ]
        }
      ]
    },
    {
      "cell_type": "code",
      "source": [
        "print('p\\tq\\tr\\tp_and_r\\tq_or_r')\n",
        "for p in [True, False]:\n",
        "  for q in [True, False]:\n",
        "    for r in [True, False]:\n",
        "      p_and_r = p and r\n",
        "      q_or_r = q or r\n",
        "      print(f'{p}\\t{q}\\t{r}\\t{p_and_r}\\t{q_or_r}')"
      ],
      "metadata": {
        "colab": {
          "base_uri": "https://localhost:8080/"
        },
        "id": "gLIlRVSQD721",
        "outputId": "3568d12a-a0cc-4d94-bf7b-c706e474b3b8"
      },
      "execution_count": 14,
      "outputs": [
        {
          "output_type": "stream",
          "name": "stdout",
          "text": [
            "p\tq\tr\tp_and_r\tq_or_r\n",
            "True\tTrue\tTrue\tTrue\tTrue\n",
            "True\tTrue\tFalse\tFalse\tTrue\n",
            "True\tFalse\tTrue\tTrue\tTrue\n",
            "True\tFalse\tFalse\tFalse\tFalse\n",
            "False\tTrue\tTrue\tFalse\tTrue\n",
            "False\tTrue\tFalse\tFalse\tTrue\n",
            "False\tFalse\tTrue\tFalse\tTrue\n",
            "False\tFalse\tFalse\tFalse\tFalse\n"
          ]
        }
      ]
    }
  ]
}