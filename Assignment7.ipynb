{
  "nbformat": 4,
  "nbformat_minor": 0,
  "metadata": {
    "colab": {
      "provenance": [],
      "authorship_tag": "ABX9TyNGtjOQTdaKyx7arZ2DXJNp",
      "include_colab_link": true
    },
    "kernelspec": {
      "name": "python3",
      "display_name": "Python 3"
    },
    "language_info": {
      "name": "python"
    }
  },
  "cells": [
    {
      "cell_type": "markdown",
      "metadata": {
        "id": "view-in-github",
        "colab_type": "text"
      },
      "source": [
        "<a href=\"https://colab.research.google.com/github/House321/CSC_221_jbarr029/blob/main/Assignment7.ipynb\" target=\"_parent\"><img src=\"https://colab.research.google.com/assets/colab-badge.svg\" alt=\"Open In Colab\"/></a>"
      ]
    },
    {
      "cell_type": "code",
      "execution_count": null,
      "metadata": {
        "colab": {
          "base_uri": "https://localhost:8080/"
        },
        "id": "gYC0W2g7WtPV",
        "outputId": "db61320a-7efa-49bd-d999-739b1066f54d"
      },
      "outputs": [
        {
          "output_type": "stream",
          "name": "stdout",
          "text": [
            "First Name: Josue\n",
            "Last Name: Barrientos\n",
            "Age: 18\n",
            "Hometown: Queens NYC\n"
          ]
        }
      ],
      "source": [
        "##### TIY 6.1\n",
        "\n",
        "p_info = {'f_name': 'Josue', 'l_name': 'Barrientos', 'age': '18', 'hometown': 'Queens NYC'}\n",
        "\n",
        "print(\"First Name:\", p_info['f_name'])\n",
        "print(\"Last Name:\", p_info['l_name'])\n",
        "print(\"Age:\", p_info['age'])\n",
        "print(\"Hometown:\", p_info['hometown'])"
      ]
    },
    {
      "cell_type": "code",
      "source": [
        "##### TIY 6.2\n",
        "\n",
        "cool_nums = {'Kevin': '11', 'Nelson': '1', 'Marqus': '3', 'Christopher': '23', 'Hamza': '4', 'Josue': '10'}\n",
        "\n",
        "for person in cool_nums:\n",
        "  print(f\"{person}'s favorite number is: {cool_nums[person]}\")"
      ],
      "metadata": {
        "colab": {
          "base_uri": "https://localhost:8080/"
        },
        "id": "dOEfsHUAXw3M",
        "outputId": "11bd0fa3-9f1a-4367-903d-faeb2092f544"
      },
      "execution_count": null,
      "outputs": [
        {
          "output_type": "stream",
          "name": "stdout",
          "text": [
            "Kevin's favorite number is: 11\n",
            "Nelson's favorite number is: 1\n",
            "Marqus's favorite number is: 3\n",
            "Christopher's favorite number is: 23\n",
            "Hamza's favorite number is: 4\n",
            "Josue's favorite number is: 10\n"
          ]
        }
      ]
    },
    {
      "cell_type": "code",
      "source": [
        "##### TIY 6.3\n",
        "\n",
        "glossary = {'variable': 'containers for storing data values.',\n",
        "            'function': 'a block of code which only runs when it is called.',\n",
        "            'loop': 'a control flow statement that is used to repeatedly execute a group of statements as long as the condition is satisfied',\n",
        "            'list': 'used to store multiple items in a single variable.',\n",
        "            'dictionary': 'a book or electronic resource that lists the words of a language (typically in alphabetical order) and gives their meaning, or gives the equivalent words in a different language, often also providing information about pronunciation, origin, and usage.',\n",
        "            }\n",
        "\n",
        "for term in glossary:\n",
        "  print(f\"{term}\\n{glossary[term]}\\n\")"
      ],
      "metadata": {
        "colab": {
          "base_uri": "https://localhost:8080/"
        },
        "id": "HLta23CDZVxG",
        "outputId": "404a7699-e920-4429-c9bf-112e5b3c0f06"
      },
      "execution_count": null,
      "outputs": [
        {
          "output_type": "stream",
          "name": "stdout",
          "text": [
            "variable\n",
            "containers for storing data values.\n",
            "\n",
            "function\n",
            "a block of code which only runs when it is called.\n",
            "\n",
            "loop\n",
            "a control flow statement that is used to repeatedly execute a group of statements as long as the condition is satisfied\n",
            "\n",
            "list\n",
            "used to store multiple items in a single variable.\n",
            "\n",
            "dictionary\n",
            "a book or electronic resource that lists the words of a language (typically in alphabetical order) and gives their meaning, or gives the equivalent words in a different language, often also providing information about pronunciation, origin, and usage.\n",
            "\n"
          ]
        }
      ]
    },
    {
      "cell_type": "code",
      "source": [
        "##### TIY 6.4\n",
        "\n",
        "glossary = {'variable': 'containers for storing data values.',\n",
        "            'function': 'a block of code which only runs when it is called.',\n",
        "            'loop': 'a control flow statement that is used to repeatedly execute a group of statements as long as the condition is satisfied',\n",
        "            'list': 'used to store multiple items in a single variable.',\n",
        "            'dictionary': 'a book or electronic resource that lists the words of a language (typically in alphabetical order) and gives their meaning, or gives the equivalent words in a different language, often also providing information about pronunciation, origin, and usage.',\n",
        "            'tuple': 'a type of data structure that is very similar to lists. The main difference between the two is that tuples are immutable, meaning they cannot be changed once they are created. This makes them ideal for storing data that should not be modified, such as database records.',\n",
        "            'set': 'a set is a collection which is unordered, unchangeable*, and unindexed',\n",
        "            'module': 'a file containing a set of functions you want to include in your application.',\n",
        "            'string': 'a collection of alphabets, words or other characters. It is one of the primitive data structures and are the building blocks for data manipulation.',\n",
        "            'boolean': 'can have only two values - True or False.'\n",
        "            }\n",
        "\n",
        "for term in glossary:\n",
        "  print(f\"{term}\\n{glossary[term]}\\n\")"
      ],
      "metadata": {
        "colab": {
          "base_uri": "https://localhost:8080/"
        },
        "id": "yMmRexq1j06Z",
        "outputId": "e5689d3a-047f-4d41-fece-f89b25428672"
      },
      "execution_count": 22,
      "outputs": [
        {
          "output_type": "stream",
          "name": "stdout",
          "text": [
            "variable\n",
            "containers for storing data values.\n",
            "\n",
            "function\n",
            "a block of code which only runs when it is called.\n",
            "\n",
            "loop\n",
            "a control flow statement that is used to repeatedly execute a group of statements as long as the condition is satisfied\n",
            "\n",
            "list\n",
            "used to store multiple items in a single variable.\n",
            "\n",
            "dictionary\n",
            "a book or electronic resource that lists the words of a language (typically in alphabetical order) and gives their meaning, or gives the equivalent words in a different language, often also providing information about pronunciation, origin, and usage.\n",
            "\n",
            "tuple\n",
            "a type of data structure that is very similar to lists. The main difference between the two is that tuples are immutable, meaning they cannot be changed once they are created. This makes them ideal for storing data that should not be modified, such as database records.\n",
            "\n",
            "set\n",
            "a set is a collection which is unordered, unchangeable*, and unindexed\n",
            "\n",
            "module\n",
            "a file containing a set of functions you want to include in your application.\n",
            "\n",
            "string\n",
            "a collection of alphabets, words or other characters. It is one of the primitive data structures and are the building blocks for data manipulation.\n",
            "\n",
            "boolean\n",
            "can have only two values - True or False.\n",
            "\n"
          ]
        }
      ]
    },
    {
      "cell_type": "code",
      "source": [
        "cities = {\n",
        "    'Barcelona': {\n",
        "        'nation': 'Spain',\n",
        "        'population': '5,687,000',\n",
        "        'fact': 'Barcelona was the capital city of Spain from 1937 to 1939. Today, it remains the capital of the region of Catalonia.'\n",
        "    },\n",
        "    'New York City': {\n",
        "        'nation': 'United States of America',\n",
        "        'population': '19,461,352',\n",
        "        'fact': \"NYC is home to Einstein's eyeballs.\"\n",
        "    },\n",
        "    'Berlin': {\n",
        "        'nation': 'Germany',\n",
        "        'population': '3,577,000',\n",
        "        'fact': \"Berlin was once the beer capital of Europe.\"\n",
        "    }\n",
        "}\n",
        "\n",
        "for city in cities:\n",
        "    print(f\"\\n{city}:\")\n",
        "    city_info = cities[city]\n",
        "    for key in city_info:\n",
        "        print(f\"{key}: {city_info[key]}\")"
      ],
      "metadata": {
        "colab": {
          "base_uri": "https://localhost:8080/"
        },
        "id": "d-nltWlmj_Cg",
        "outputId": "a3776d5b-703b-4d47-a0e2-be35490d5331"
      },
      "execution_count": null,
      "outputs": [
        {
          "output_type": "stream",
          "name": "stdout",
          "text": [
            "\n",
            "Barcelona:\n",
            "nation: Spain\n",
            "population: 5,687,000\n",
            "fact: Barcelona was the capital city of Spain from 1937 to 1939. Today, it remains the capital of the region of Catalonia.\n",
            "\n",
            "New York City:\n",
            "nation: United States of America\n",
            "population: 19,461,352\n",
            "fact: NYC is home to Einstein's eyeballs.\n",
            "\n",
            "Berlin:\n",
            "nation: Germany\n",
            "population: 3,577,000\n",
            "fact: Berlin was once the beer capital of Europe.\n"
          ]
        }
      ]
    },
    {
      "cell_type": "code",
      "source": [
        "%%file grades.txt\n",
        "\n",
        "Christopher, 85\n",
        "Hamza, 90\n",
        "Josue, 78\n",
        "Kevin, 95\n",
        "Marqus, 82\n",
        "Nelson, 80"
      ],
      "metadata": {
        "colab": {
          "base_uri": "https://localhost:8080/"
        },
        "id": "H_bzXvSzp-t6",
        "outputId": "55517aef-aafb-4769-e080-eb218d2755f2"
      },
      "execution_count": 28,
      "outputs": [
        {
          "output_type": "stream",
          "name": "stdout",
          "text": [
            "Overwriting grades.txt\n"
          ]
        }
      ]
    },
    {
      "cell_type": "code",
      "source": [
        "grades_dict = {}\n",
        "file = open('grades.txt', 'r')\n",
        "for line in file:\n",
        "    space_index = line.find(' ')\n",
        "    if space_index == -1:\n",
        "        continue\n",
        "    name = line[:space_index]\n",
        "    grade_str = line[space_index+1:].rstrip()\n",
        "    if not grade_str.isdigit():\n",
        "        continue\n",
        "    grade = int(grade_str)\n",
        "    grades_dict[name] = grade\n",
        "\n",
        "file.close()\n",
        "\n",
        "print(\"Sorted by names:\")\n",
        "for name in sorted(grades_dict.keys()):\n",
        "    print(f\"{name}: {grades_dict[name]}\")\n",
        "\n",
        "print(\"\\nSorted by grades (highest to lowest):\")\n",
        "for name in sorted(grades_dict, key=lambda x: grades_dict[x], reverse=True):\n",
        "    grade = grades_dict[name]\n",
        "    print(f\"{name}: {grade}\")\n"
      ],
      "metadata": {
        "colab": {
          "base_uri": "https://localhost:8080/"
        },
        "id": "Q5gfnY3onCaf",
        "outputId": "79ba183b-fb42-463e-b254-8bcf607ad237"
      },
      "execution_count": 33,
      "outputs": [
        {
          "output_type": "stream",
          "name": "stdout",
          "text": [
            "Sorted by names:\n",
            "Christopher,: 85\n",
            "Hamza,: 90\n",
            "Josue,: 78\n",
            "Kevin,: 95\n",
            "Marqus,: 82\n",
            "Nelson,: 80\n",
            "\n",
            "Sorted by grades (highest to lowest):\n",
            "Kevin,: 95\n",
            "Hamza,: 90\n",
            "Christopher,: 85\n",
            "Marqus,: 82\n",
            "Nelson,: 80\n",
            "Josue,: 78\n"
          ]
        }
      ]
    }
  ]
}