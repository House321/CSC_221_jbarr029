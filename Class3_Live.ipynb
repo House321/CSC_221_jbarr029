{
  "nbformat": 4,
  "nbformat_minor": 0,
  "metadata": {
    "colab": {
      "provenance": [],
      "authorship_tag": "ABX9TyO6bjYStzRcBq2dp1YztWmS",
      "include_colab_link": true
    },
    "kernelspec": {
      "name": "python3",
      "display_name": "Python 3"
    },
    "language_info": {
      "name": "python"
    }
  },
  "cells": [
    {
      "cell_type": "markdown",
      "metadata": {
        "id": "view-in-github",
        "colab_type": "text"
      },
      "source": [
        "<a href=\"https://colab.research.google.com/github/House321/CSC_221_jbarr029/blob/main/Class3_Live.ipynb\" target=\"_parent\"><img src=\"https://colab.research.google.com/assets/colab-badge.svg\" alt=\"Open In Colab\"/></a>"
      ]
    },
    {
      "cell_type": "markdown",
      "source": [
        "# CSC 221 Spring 2024\n",
        "- Ned Lecky\n",
        "- Class 3 Live\n",
        "- 2/5/2024\n",
        "# Here's what we did .....ndsndsjdn"
      ],
      "metadata": {
        "id": "a4HzjBY36Oe2"
      }
    },
    {
      "cell_type": "code",
      "source": [
        "a = 13\n",
        "b = 12.5\n",
        "c = \"Fred\"\n",
        "\n",
        "print(a, b, c)\n",
        "\n",
        "print(type(a))\n",
        "print(type(b))\n",
        "print(type(c))"
      ],
      "metadata": {
        "colab": {
          "base_uri": "https://localhost:8080/"
        },
        "id": "o6mO0Zag63ga",
        "outputId": "2554b02e-3605-486c-d8fe-9a0674bd8af5"
      },
      "execution_count": 3,
      "outputs": [
        {
          "output_type": "stream",
          "name": "stdout",
          "text": [
            "13 12.5 Fred\n",
            "<class 'int'>\n",
            "<class 'float'>\n",
            "<class 'str'>\n"
          ]
        }
      ]
    },
    {
      "cell_type": "code",
      "source": [
        "b = a**123\n",
        "print(type(b), b)"
      ],
      "metadata": {
        "colab": {
          "base_uri": "https://localhost:8080/"
        },
        "id": "utLM5hAi7b9T",
        "outputId": "7df38d34-e49b-43bf-c9a0-de5fc1e0e618"
      },
      "execution_count": 4,
      "outputs": [
        {
          "output_type": "stream",
          "name": "stdout",
          "text": [
            "<class 'int'> 103521923711427330139508660561111399310356231562909825053544787423528887795603512927942762680653876132399975884814583882073552996857463797\n"
          ]
        }
      ]
    },
    {
      "cell_type": "code",
      "source": [
        "f2 = 1/3\n",
        "print(f2)"
      ],
      "metadata": {
        "colab": {
          "base_uri": "https://localhost:8080/"
        },
        "id": "0vYJFgab7zfH",
        "outputId": "1405bea4-864c-4630-d9e8-65eefc412f9d"
      },
      "execution_count": 5,
      "outputs": [
        {
          "output_type": "stream",
          "name": "stdout",
          "text": [
            "0.3333333333333333\n"
          ]
        }
      ]
    },
    {
      "cell_type": "code",
      "source": [
        "print(1/11)"
      ],
      "metadata": {
        "colab": {
          "base_uri": "https://localhost:8080/"
        },
        "id": "OnQ7o-Ef73wb",
        "outputId": "ce21f40a-191e-464a-c6e4-59138725234d"
      },
      "execution_count": 6,
      "outputs": [
        {
          "output_type": "stream",
          "name": "stdout",
          "text": [
            "0.09090909090909091\n"
          ]
        }
      ]
    },
    {
      "cell_type": "code",
      "source": [
        "print(c)"
      ],
      "metadata": {
        "colab": {
          "base_uri": "https://localhost:8080/"
        },
        "id": "uv60xJlA8GBF",
        "outputId": "bd9bb431-d886-4ada-9b0b-1e752f534874"
      },
      "execution_count": 7,
      "outputs": [
        {
          "output_type": "stream",
          "name": "stdout",
          "text": [
            "Fred\n"
          ]
        }
      ]
    },
    {
      "cell_type": "code",
      "source": [
        "# A-Za-z_ followed by 0-9A-Za-z_\n",
        "\n",
        "_3abc = 12"
      ],
      "metadata": {
        "id": "s44xbNRQ8egG"
      },
      "execution_count": 9,
      "outputs": []
    },
    {
      "cell_type": "code",
      "source": [
        "# Good and bad variable names\n",
        "age_in_years = 61\n",
        "last_name = \"Lecky\"\n",
        "first_name = \"Ned\"\n",
        "\n",
        "AgeInYears = 61\n",
        "\n",
        "print(f'age_in_years={age_in_years} and 4 squared is {4**2}')"
      ],
      "metadata": {
        "colab": {
          "base_uri": "https://localhost:8080/"
        },
        "id": "rw6okRYh8p5I",
        "outputId": "a921f23e-e2aa-4e46-b505-769d4b2067ec"
      },
      "execution_count": 14,
      "outputs": [
        {
          "output_type": "stream",
          "name": "stdout",
          "text": [
            "age_in_years=61 and 4 squared is 16\n"
          ]
        }
      ]
    },
    {
      "cell_type": "code",
      "source": [
        "# Intro to functions and objects\n",
        "def f1(x):\n",
        "  y = 3 * x + 2\n",
        "  return y\n",
        "\n",
        "def f2(x):\n",
        "  print(f\"Hi I'm f2 and I got {x}\")\n",
        "\n",
        "def f3(x):\n",
        "  print(f\"hi i'm f3 and I got {x}\")\n",
        "\n",
        "\n",
        "y = f1(12)\n",
        "print(y)\n",
        "\n",
        "f2(12)\n",
        "f3(21)"
      ],
      "metadata": {
        "colab": {
          "base_uri": "https://localhost:8080/"
        },
        "id": "1PiSO17J-UCO",
        "outputId": "0091f023-dddb-4dbf-dcf2-0ab28a52ffe5"
      },
      "execution_count": 19,
      "outputs": [
        {
          "output_type": "stream",
          "name": "stdout",
          "text": [
            "38\n",
            "Hi I'm f2 and I got 12\n",
            "hi i'm f3 and I got 21\n"
          ]
        }
      ]
    },
    {
      "cell_type": "code",
      "source": [
        "name = 'ned lecky'\n",
        "\n",
        "print(name.title())"
      ],
      "metadata": {
        "colab": {
          "base_uri": "https://localhost:8080/"
        },
        "id": "7fFzHxSAAsFh",
        "outputId": "4c99e82c-9398-4f7a-d83f-d0ddf3e34ba5"
      },
      "execution_count": 20,
      "outputs": [
        {
          "output_type": "stream",
          "name": "stdout",
          "text": [
            "Ned Lecky\n"
          ]
        }
      ]
    },
    {
      "cell_type": "code",
      "source": [],
      "metadata": {
        "id": "eGJ_LkI9DZHi"
      },
      "execution_count": null,
      "outputs": []
    }
  ]
}